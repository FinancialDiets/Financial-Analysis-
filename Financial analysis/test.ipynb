{
 "cells": [
  {
   "cell_type": "code",
   "execution_count": 1,
   "id": "f93cb368",
   "metadata": {},
   "outputs": [
    {
     "name": "stderr",
     "output_type": "stream",
     "text": [
      "2022-11-01 15:04:08.927 INFO    numexpr.utils: NumExpr defaulting to 8 threads.\n",
      "2022-11-01 15:04:20.211 \n",
      "  \u001b[33m\u001b[1mWarning:\u001b[0m to view this Streamlit app on a browser, run it with the following\n",
      "  command:\n",
      "\n",
      "    streamlit run C:\\Users\\JeanPhilippeNdri\\anaconda3\\lib\\site-packages\\ipykernel_launcher.py [ARGUMENTS]\n"
     ]
    },
    {
     "data": {
      "text/plain": [
       "DeltaGenerator(_root_container=0, _provided_cursor=None, _parent=None, _block_type=None, _form_data=None)"
      ]
     },
     "execution_count": 1,
     "metadata": {},
     "output_type": "execute_result"
    }
   ],
   "source": [
    "import datetime\n",
    "import streamlit as st\n",
    "import pandas_datareader as pdr\n",
    "import cufflinks as cf\n",
    "\n",
    "APP_NAME = \"Stock App!\"\n",
    "\n",
    "# Page Configuration\n",
    "st.set_page_config(\n",
    "    page_title=APP_NAME,\n",
    "    layout=\"wide\",\n",
    "    initial_sidebar_state=\"expanded\",\n",
    ")\n",
    "\n",
    "# Add some markdown\n",
    "st.sidebar.markdown(\"Made with love using [Streamlit](https://streamlit.io/).\")\n",
    "st.sidebar.markdown(\"# :chart_with_upwards_trend:\")\n",
    "\n",
    "# Add app title\n",
    "st.sidebar.title(APP_NAME)\n",
    "\n",
    "# List of tickers\n",
    "TICKERS = ['FB', 'AMZN', 'AAPL', 'NFLX', 'GOOGL', 'MSFT']\n",
    "\n",
    "# Select ticker\n",
    "ticker = st.sidebar.selectbox('Select ticker', sorted(TICKERS), index=0)\n",
    "\n",
    "# Set start and end point to fetch data\n",
    "start_date = st.sidebar.date_input('Start date', datetime.datetime(2021, 1, 1))\n",
    "end_date = st.sidebar.date_input('End date', datetime.datetime.now().date())\n",
    "\n",
    "# Fetch the data for specified ticker e.g. AAPL from yahoo finance\n",
    "df_ticker = pdr.DataReader(ticker, 'yahoo', start_date, end_date)\n",
    "\n",
    "st.header(f'{ticker} Stock Price')\n",
    "\n",
    "if st.checkbox('Show raw data'):\n",
    "    st.subheader('Raw data')\n",
    "    st.write(df_ticker)\n",
    "\n",
    "# Interactive data visualizations using cufflinks\n",
    "# Create candlestick chart \n",
    "qf = cf.QuantFig(df_ticker, legend='top', name=ticker)\n",
    "\n",
    "\n",
    "# Technical Analysis Studies can be added on demand\n",
    "# Add Relative Strength Indicator (RSI) study to QuantFigure.studies\n",
    "qf.add_rsi(periods=20, color='java')\n",
    "\n",
    "# Add Bollinger Bands (BOLL) study to QuantFigure.studies\n",
    "qf.add_bollinger_bands(periods=20,boll_std=2,colors=['magenta','grey'],fill=True)\n",
    "\n",
    "# Add 'volume' study to QuantFigure.studies\n",
    "qf.add_volume()\n",
    "\n",
    "fig = qf.iplot(asFigure=True, dimensions=(800, 600))\n",
    "\n",
    "# Render plot using plotly_chart\n",
    "st.plotly_chart(fig)"
   ]
  },
  {
   "cell_type": "code",
   "execution_count": 2,
   "id": "1a40d5b2",
   "metadata": {},
   "outputs": [
    {
     "ename": "SyntaxError",
     "evalue": "invalid syntax (3737097518.py, line 1)",
     "output_type": "error",
     "traceback": [
      "\u001b[1;36m  Input \u001b[1;32mIn [2]\u001b[1;36m\u001b[0m\n\u001b[1;33m    streamlit run app.py\u001b[0m\n\u001b[1;37m              ^\u001b[0m\n\u001b[1;31mSyntaxError\u001b[0m\u001b[1;31m:\u001b[0m invalid syntax\n"
     ]
    }
   ],
   "source": [
    "streamlit run app.py"
   ]
  }
 ],
 "metadata": {
  "kernelspec": {
   "display_name": "Python 3 (ipykernel)",
   "language": "python",
   "name": "python3"
  },
  "language_info": {
   "codemirror_mode": {
    "name": "ipython",
    "version": 3
   },
   "file_extension": ".py",
   "mimetype": "text/x-python",
   "name": "python",
   "nbconvert_exporter": "python",
   "pygments_lexer": "ipython3",
   "version": "3.9.7"
  }
 },
 "nbformat": 4,
 "nbformat_minor": 5
}
